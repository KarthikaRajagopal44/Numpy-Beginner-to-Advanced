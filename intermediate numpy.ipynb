{
 "cells": [
  {
   "cell_type": "code",
   "execution_count": null,
   "id": "75a0871f-888f-4f93-af00-42c0e5d4e927",
   "metadata": {},
   "outputs": [],
   "source": [
    "# import library\n",
    "import numpy as np"
   ]
  },
  {
   "cell_type": "code",
   "execution_count": null,
   "id": "65ff32aa-347d-4118-bdb0-5e119186a6a4",
   "metadata": {},
   "outputs": [],
   "source": [
    "Creating arrays with random values from a normal distribution"
   ]
  },
  {
   "cell_type": "code",
   "execution_count": 1,
   "id": "663aad75-5052-4af5-9113-66b46e201bd2",
   "metadata": {},
   "outputs": [
    {
     "name": "stdout",
     "output_type": "stream",
     "text": [
      "Normal distribution array:\n",
      " [[-0.27205711  1.80847591  1.02508128]\n",
      " [ 1.12162684 -1.18998229 -0.2232259 ]\n",
      " [ 1.07022859  0.40661123  0.00589061]]\n"
     ]
    }
   ],
   "source": [
    "# mean=0, std=1\n",
    "import numpy as np\n",
    "normal_dist = np.random.normal(loc=0, scale=1, size=(3, 3)) \n",
    "print(\"Normal distribution array:\\n\", normal_dist)"
   ]
  },
  {
   "cell_type": "code",
   "execution_count": null,
   "id": "5908fab8-178f-4c44-a44a-d06ba7ccea65",
   "metadata": {},
   "outputs": [],
   "source": [
    "Generating random integers"
   ]
  },
  {
   "cell_type": "code",
   "execution_count": 3,
   "id": "d982e3a9-84ea-4fe9-9e41-2ec44b74cf1a",
   "metadata": {},
   "outputs": [
    {
     "name": "stdout",
     "output_type": "stream",
     "text": [
      "Random integers array:\n",
      " [[7 7 1]\n",
      " [0 3 0]\n",
      " [9 4 4]]\n"
     ]
    }
   ],
   "source": [
    "# low, high, size\n",
    "import numpy as np\n",
    "rand_ints = np.random.randint(0, 10, size=(3, 3))  \n",
    "print(\"Random integers array:\\n\", rand_ints)"
   ]
  },
  {
   "cell_type": "code",
   "execution_count": null,
   "id": "d8d38b8d-0d09-4182-90aa-60af0d9aa281",
   "metadata": {},
   "outputs": [],
   "source": [
    "Creating an array with random values from a uniform distribution"
   ]
  },
  {
   "cell_type": "code",
   "execution_count": 4,
   "id": "01f446f7-e375-4789-b0de-699ed05b6515",
   "metadata": {},
   "outputs": [
    {
     "name": "stdout",
     "output_type": "stream",
     "text": [
      "Uniform distribution array:\n",
      " [[0.5680915  0.88071404 0.37117314]\n",
      " [0.58701693 0.92395974 0.15088461]\n",
      " [0.49809421 0.17041021 0.01969703]]\n"
     ]
    }
   ],
   "source": [
    "# low, high, size\n",
    "import numpy as np\n",
    "uniform_dist = np.random.uniform(low=0, high=1, size=(3, 3)) \n",
    "print(\"Uniform distribution array:\\n\", uniform_dist)"
   ]
  },
  {
   "cell_type": "code",
   "execution_count": null,
   "id": "701df720-b484-4ca1-b0ba-2eadd3e56120",
   "metadata": {},
   "outputs": [],
   "source": [
    "Advanced indexing with integer arrays"
   ]
  },
  {
   "cell_type": "code",
   "execution_count": 5,
   "id": "b66c0e4b-4aaf-4c0c-b582-47af63e23529",
   "metadata": {},
   "outputs": [
    {
     "name": "stdout",
     "output_type": "stream",
     "text": [
      "Indexed array: [10 30 50]\n"
     ]
    }
   ],
   "source": [
    "import numpy as np\n",
    "a = np.array([10, 20, 30, 40, 50])\n",
    "index_array = np.array([0, 2, 4])\n",
    "indexed_array = a[index_array]\n",
    "print(\"Indexed array:\", indexed_array)"
   ]
  },
  {
   "cell_type": "code",
   "execution_count": null,
   "id": "696ea416-e0bb-41ed-b531-5fbe7f24b0d8",
   "metadata": {},
   "outputs": [],
   "source": [
    "Advanced indexing with boolean arrays"
   ]
  },
  {
   "cell_type": "code",
   "execution_count": 6,
   "id": "0c8048f7-11f1-45b9-a512-12dbb89aca93",
   "metadata": {},
   "outputs": [
    {
     "name": "stdout",
     "output_type": "stream",
     "text": [
      "Boolean indexing (b > 2):\n",
      " [[False False]\n",
      " [ True  True]\n",
      " [ True  True]]\n",
      "Filtered array: [3 4 5 6]\n"
     ]
    }
   ],
   "source": [
    "import numpy as np\n",
    "b = np.array([[1, 2], [3, 4], [5, 6]])\n",
    "bool_idx = (b > 2)\n",
    "print(\"Boolean indexing (b > 2):\\n\", bool_idx)\n",
    "filtered_b = b[bool_idx]\n",
    "print(\"Filtered array:\", filtered_b)"
   ]
  },
  {
   "cell_type": "code",
   "execution_count": null,
   "id": "9fb206e1-2211-43e2-b619-70e65c95ab93",
   "metadata": {},
   "outputs": [],
   "source": [
    "Broadcasting"
   ]
  },
  {
   "cell_type": "code",
   "execution_count": 7,
   "id": "f323824e-43b8-446a-b2e4-0c1c927cbd62",
   "metadata": {},
   "outputs": [
    {
     "name": "stdout",
     "output_type": "stream",
     "text": [
      "Broadcasted sum:\n",
      " [[2 2 4]\n",
      " [5 5 7]]\n"
     ]
    }
   ],
   "source": [
    "import numpy as np\n",
    "x = np.array([[1, 2, 3], [4, 5, 6]])\n",
    "y = np.array([1, 0, 1])\n",
    "broadcasted_sum = x + y\n",
    "print(\"Broadcasted sum:\\n\", broadcasted_sum)"
   ]
  },
  {
   "cell_type": "code",
   "execution_count": null,
   "id": "877dbced-3465-41b9-8ef3-f3d95886f417",
   "metadata": {},
   "outputs": [],
   "source": [
    "Stacking arrays depth-wise"
   ]
  },
  {
   "cell_type": "code",
   "execution_count": 9,
   "id": "4f7562b5-3548-4d71-a327-9c8430c1a13d",
   "metadata": {},
   "outputs": [
    {
     "name": "stdout",
     "output_type": "stream",
     "text": [
      "Depth-wise stacked array:\n",
      " [[[1 1]\n",
      "  [2 2]\n",
      "  [3 3]]\n",
      "\n",
      " [[4 4]\n",
      "  [5 5]\n",
      "  [6 6]]]\n"
     ]
    }
   ],
   "source": [
    "depth_stack = np.dstack((x, x))\n",
    "print(\"Depth-wise stacked array:\\n\", depth_stack)"
   ]
  },
  {
   "cell_type": "code",
   "execution_count": null,
   "id": "7f4c83af-5252-4f71-bbf9-d30a484c35cc",
   "metadata": {},
   "outputs": [],
   "source": [
    "Splitting arrays"
   ]
  },
  {
   "cell_type": "code",
   "execution_count": 10,
   "id": "0b7e190c-095d-4c19-98de-67261c7b44ae",
   "metadata": {},
   "outputs": [
    {
     "name": "stdout",
     "output_type": "stream",
     "text": [
      "Split array: [array([[1, 2, 3]]), array([[4, 5, 6]])]\n"
     ]
    }
   ],
   "source": [
    "# split into 2 sub-arrays\n",
    "split_array = np.split(x, 2)  \n",
    "print(\"Split array:\", split_array)"
   ]
  },
  {
   "cell_type": "code",
   "execution_count": null,
   "id": "e677672c-070d-4635-98f8-082843c30b1d",
   "metadata": {},
   "outputs": [],
   "source": [
    "Finding unique elements"
   ]
  },
  {
   "cell_type": "code",
   "execution_count": 11,
   "id": "d97eb255-5947-4d1a-9e5e-2ba8d0f00667",
   "metadata": {},
   "outputs": [
    {
     "name": "stdout",
     "output_type": "stream",
     "text": [
      "Unique elements: [1 2 3]\n"
     ]
    }
   ],
   "source": [
    "c = np.array([1, 2, 2, 3, 3, 3])\n",
    "unique_elements = np.unique(c)\n",
    "print(\"Unique elements:\", unique_elements)"
   ]
  },
  {
   "cell_type": "code",
   "execution_count": null,
   "id": "def5d095-1198-4de5-ae43-1bb225ea5aa1",
   "metadata": {},
   "outputs": [],
   "source": [
    "Finding unique elements and their counts"
   ]
  },
  {
   "cell_type": "code",
   "execution_count": 12,
   "id": "3b0d4fb4-ff97-42db-b558-78940cdc9028",
   "metadata": {},
   "outputs": [
    {
     "name": "stdout",
     "output_type": "stream",
     "text": [
      "Unique elements with counts: [1 2 3] [1 2 3]\n"
     ]
    }
   ],
   "source": [
    "unique_elements, counts = np.unique(c, return_counts=True)\n",
    "print(\"Unique elements with counts:\", unique_elements, counts)"
   ]
  },
  {
   "cell_type": "code",
   "execution_count": null,
   "id": "3e5abc23-0cac-40df-a752-3ffa12f97e0f",
   "metadata": {},
   "outputs": [],
   "source": [
    "Linear algebra operations"
   ]
  },
  {
   "cell_type": "code",
   "execution_count": null,
   "id": "5f257183-7d16-47f5-9d56-badefd28cf06",
   "metadata": {},
   "outputs": [],
   "source": [
    "matrix = np.array([[1, 2], [3, 4]])"
   ]
  },
  {
   "cell_type": "code",
   "execution_count": null,
   "id": "3717bae9-e8c5-401e-b883-7abee2be8df9",
   "metadata": {},
   "outputs": [],
   "source": [
    "Inverse of a matrix"
   ]
  },
  {
   "cell_type": "code",
   "execution_count": 13,
   "id": "f24b9978-48c2-403e-a4a1-e521839cd598",
   "metadata": {},
   "outputs": [
    {
     "ename": "NameError",
     "evalue": "name 'matrix' is not defined",
     "output_type": "error",
     "traceback": [
      "\u001b[1;31m---------------------------------------------------------------------------\u001b[0m",
      "\u001b[1;31mNameError\u001b[0m                                 Traceback (most recent call last)",
      "Cell \u001b[1;32mIn[13], line 1\u001b[0m\n\u001b[1;32m----> 1\u001b[0m inverse_matrix \u001b[38;5;241m=\u001b[39m np\u001b[38;5;241m.\u001b[39mlinalg\u001b[38;5;241m.\u001b[39minv(matrix)\n\u001b[0;32m      2\u001b[0m \u001b[38;5;28mprint\u001b[39m(\u001b[38;5;124m\"\u001b[39m\u001b[38;5;124mInverse of matrix:\u001b[39m\u001b[38;5;130;01m\\n\u001b[39;00m\u001b[38;5;124m\"\u001b[39m, inverse_matrix)\n",
      "\u001b[1;31mNameError\u001b[0m: name 'matrix' is not defined"
     ]
    }
   ],
   "source": [
    "inverse_matrix = np.linalg.inv(matrix)\n",
    "print(\"Inverse of matrix:\\n\", inverse_matrix)"
   ]
  },
  {
   "cell_type": "code",
   "execution_count": null,
   "id": "af8a14a9-c138-4132-a8fd-e882aa5c18e3",
   "metadata": {},
   "outputs": [],
   "source": [
    "Determinant of a matrix"
   ]
  },
  {
   "cell_type": "code",
   "execution_count": 14,
   "id": "32414ffc-0023-4da8-8c91-a68dcae77609",
   "metadata": {},
   "outputs": [
    {
     "ename": "NameError",
     "evalue": "name 'matrix' is not defined",
     "output_type": "error",
     "traceback": [
      "\u001b[1;31m---------------------------------------------------------------------------\u001b[0m",
      "\u001b[1;31mNameError\u001b[0m                                 Traceback (most recent call last)",
      "Cell \u001b[1;32mIn[14], line 1\u001b[0m\n\u001b[1;32m----> 1\u001b[0m det_matrix \u001b[38;5;241m=\u001b[39m np\u001b[38;5;241m.\u001b[39mlinalg\u001b[38;5;241m.\u001b[39mdet(matrix)\n\u001b[0;32m      2\u001b[0m \u001b[38;5;28mprint\u001b[39m(\u001b[38;5;124m\"\u001b[39m\u001b[38;5;124mDeterminant of matrix:\u001b[39m\u001b[38;5;124m\"\u001b[39m, det_matrix)\n",
      "\u001b[1;31mNameError\u001b[0m: name 'matrix' is not defined"
     ]
    }
   ],
   "source": [
    "det_matrix = np.linalg.det(matrix)\n",
    "print(\"Determinant of matrix:\", det_matrix)"
   ]
  },
  {
   "cell_type": "code",
   "execution_count": null,
   "id": "8f0cfe2a-411d-4803-b965-ff15d697e11b",
   "metadata": {},
   "outputs": [],
   "source": [
    "Eigen values and Eigen vectors"
   ]
  },
  {
   "cell_type": "code",
   "execution_count": 15,
   "id": "33451fd2-120c-4ca8-846c-f125ddc2438e",
   "metadata": {},
   "outputs": [
    {
     "ename": "NameError",
     "evalue": "name 'matrix' is not defined",
     "output_type": "error",
     "traceback": [
      "\u001b[1;31m---------------------------------------------------------------------------\u001b[0m",
      "\u001b[1;31mNameError\u001b[0m                                 Traceback (most recent call last)",
      "Cell \u001b[1;32mIn[15], line 1\u001b[0m\n\u001b[1;32m----> 1\u001b[0m eigen \u001b[38;5;241m=\u001b[39m np\u001b[38;5;241m.\u001b[39mlinalg\u001b[38;5;241m.\u001b[39meig(matrix)\n\u001b[0;32m      2\u001b[0m \u001b[38;5;66;03m# this returns two values\u001b[39;00m\n\u001b[0;32m      3\u001b[0m \u001b[38;5;28mprint\u001b[39m(eigen)\n",
      "\u001b[1;31mNameError\u001b[0m: name 'matrix' is not defined"
     ]
    }
   ],
   "source": [
    "eigen = np.linalg.eig(matrix)\n",
    "# this returns two values\n",
    "print(eigen)"
   ]
  },
  {
   "cell_type": "code",
   "execution_count": null,
   "id": "88f74526-c9b8-4512-82c0-9b56292ff917",
   "metadata": {},
   "outputs": [],
   "source": [
    "eigenvalues, eigenvectors = np.linalg.eig(matrix)\n",
    "print(\"Eigenvalues:\", eigenvalues)\n",
    "print(\"Eigenvectors:\\n\", eigenvectors)"
   ]
  },
  {
   "cell_type": "code",
   "execution_count": null,
   "id": "cf891a0b-1c4a-4d7c-a425-27842929fb1c",
   "metadata": {},
   "outputs": [],
   "source": [
    "Solving linear equations"
   ]
  },
  {
   "cell_type": "code",
   "execution_count": null,
   "id": "7056a884-fe96-422f-9246-76cec1e1bd69",
   "metadata": {},
   "outputs": [],
   "source": [
    "Solve Ax=b"
   ]
  },
  {
   "cell_type": "code",
   "execution_count": 16,
   "id": "8013d813-5aea-4842-a295-7b4f48473553",
   "metadata": {},
   "outputs": [
    {
     "name": "stdout",
     "output_type": "stream",
     "text": [
      "Solution of linear equations: [2. 3.]\n"
     ]
    }
   ],
   "source": [
    "A = np.array([[3, 1], [1, 2]])\n",
    "b = np.array([9, 8])\n",
    "solution = np.linalg.solve(A, b)\n",
    "print(\"Solution of linear equations:\", solution)"
   ]
  },
  {
   "cell_type": "code",
   "execution_count": null,
   "id": "cce94598-4271-4e8b-9c38-e514e3623f08",
   "metadata": {},
   "outputs": [],
   "source": [
    "Matrix multiplication"
   ]
  },
  {
   "cell_type": "code",
   "execution_count": 17,
   "id": "3029b625-ace1-4380-8de9-d5b6c92f97c5",
   "metadata": {},
   "outputs": [
    {
     "ename": "NameError",
     "evalue": "name 'matrix' is not defined",
     "output_type": "error",
     "traceback": [
      "\u001b[1;31m---------------------------------------------------------------------------\u001b[0m",
      "\u001b[1;31mNameError\u001b[0m                                 Traceback (most recent call last)",
      "Cell \u001b[1;32mIn[17], line 1\u001b[0m\n\u001b[1;32m----> 1\u001b[0m matrix_mul \u001b[38;5;241m=\u001b[39m np\u001b[38;5;241m.\u001b[39mmatmul(A, matrix)\n\u001b[0;32m      2\u001b[0m \u001b[38;5;28mprint\u001b[39m(\u001b[38;5;124m\"\u001b[39m\u001b[38;5;124mMatrix multiplication:\u001b[39m\u001b[38;5;130;01m\\n\u001b[39;00m\u001b[38;5;124m\"\u001b[39m, matrix_mul)\n",
      "\u001b[1;31mNameError\u001b[0m: name 'matrix' is not defined"
     ]
    }
   ],
   "source": [
    "matrix_mul = np.matmul(A, matrix)\n",
    "print(\"Matrix multiplication:\\n\", matrix_mul)"
   ]
  },
  {
   "cell_type": "code",
   "execution_count": null,
   "id": "488d95f0-9889-4a0f-85b4-3fac74f7e79e",
   "metadata": {},
   "outputs": [],
   "source": [
    "Element-wise power"
   ]
  },
  {
   "cell_type": "code",
   "execution_count": 18,
   "id": "67b47889-b4b7-47e8-8f37-774be2c4e4cf",
   "metadata": {},
   "outputs": [
    {
     "name": "stdout",
     "output_type": "stream",
     "text": [
      "Element-wise power: [[9 1]\n",
      " [1 4]]\n"
     ]
    }
   ],
   "source": [
    "powered_array = np.power(A, 2)\n",
    "print(\"Element-wise power:\", powered_array)"
   ]
  },
  {
   "cell_type": "code",
   "execution_count": null,
   "id": "1aebe196-93fd-4b54-8a2f-f8e7ff49adeb",
   "metadata": {},
   "outputs": [],
   "source": [
    "Applying a function element-wise"
   ]
  },
  {
   "cell_type": "code",
   "execution_count": 19,
   "id": "4c071d22-c8da-4b09-bb75-c2ba624d15a3",
   "metadata": {},
   "outputs": [
    {
     "name": "stdout",
     "output_type": "stream",
     "text": [
      "Applied custom function: [[10  2]\n",
      " [ 2  5]]\n"
     ]
    }
   ],
   "source": [
    "def custom_func(x):\n",
    "    return x ** 2 + 1\n",
    "\n",
    "applied_func = np.vectorize(custom_func)(A)\n",
    "print(\"Applied custom function:\", applied_func)"
   ]
  },
  {
   "cell_type": "code",
   "execution_count": null,
   "id": "75848193-262f-4ca9-9e5c-4c895cfb13f0",
   "metadata": {},
   "outputs": [],
   "source": [
    "Logical operators"
   ]
  },
  {
   "cell_type": "code",
   "execution_count": 20,
   "id": "eeb4c86d-dd8b-40d8-a43b-b9e5bff3d852",
   "metadata": {},
   "outputs": [
    {
     "name": "stdout",
     "output_type": "stream",
     "text": [
      "Logical AND: [False  True  True  True False]\n"
     ]
    }
   ],
   "source": [
    "logical_and = np.logical_and(a > 10, a < 50)\n",
    "print(\"Logical AND:\", logical_and)"
   ]
  },
  {
   "cell_type": "code",
   "execution_count": 21,
   "id": "71907dc2-b67e-42d9-b212-7868d699cd0a",
   "metadata": {},
   "outputs": [
    {
     "name": "stdout",
     "output_type": "stream",
     "text": [
      "Logical OR: [False False False  True  True]\n"
     ]
    }
   ],
   "source": [
    "logical_or = np.logical_or(a < 10, a > 30)\n",
    "print(\"Logical OR:\", logical_or)"
   ]
  },
  {
   "cell_type": "code",
   "execution_count": null,
   "id": "ea4756a0-a608-47f6-9a45-cb53fdfb2651",
   "metadata": {},
   "outputs": [],
   "source": [
    "Saving and loading arrays"
   ]
  },
  {
   "cell_type": "code",
   "execution_count": 22,
   "id": "a4472b03-f2e9-4f91-a8c3-9e409d41e104",
   "metadata": {},
   "outputs": [
    {
     "name": "stdout",
     "output_type": "stream",
     "text": [
      "Loaded array from file: [10 20 30 40 50]\n"
     ]
    }
   ],
   "source": [
    "np.save('saved_array.npy', a)\n",
    "loaded_array = np.load('saved_array.npy')\n",
    "print(\"Loaded array from file:\", loaded_array)"
   ]
  },
  {
   "cell_type": "code",
   "execution_count": null,
   "id": "547d486e-e4b9-4e22-84a4-5de5563563a5",
   "metadata": {},
   "outputs": [],
   "source": [
    "Saving and loading text files"
   ]
  },
  {
   "cell_type": "code",
   "execution_count": 23,
   "id": "cf6904ee-5f0c-463d-8415-44946a5c43aa",
   "metadata": {},
   "outputs": [
    {
     "name": "stdout",
     "output_type": "stream",
     "text": [
      "Loaded array from text file: [10. 20. 30. 40. 50.]\n"
     ]
    }
   ],
   "source": [
    "np.savetxt('saved_array.txt', a, delimiter=',')\n",
    "loaded_text_array = np.loadtxt('saved_array.txt', delimiter=',')\n",
    "print(\"Loaded array from text file:\", loaded_text_array)"
   ]
  },
  {
   "cell_type": "code",
   "execution_count": null,
   "id": "478b511a-d1be-405b-b117-33d2471e38af",
   "metadata": {},
   "outputs": [],
   "source": [
    "Generating meshgrid for 3D plots or functions"
   ]
  },
  {
   "cell_type": "code",
   "execution_count": 24,
   "id": "dae7958c-2e35-4106-94f4-cfb4d29bd755",
   "metadata": {},
   "outputs": [
    {
     "name": "stdout",
     "output_type": "stream",
     "text": [
      "Meshgrid X:\n",
      " [[-5.         -3.88888889 -2.77777778 -1.66666667 -0.55555556  0.55555556\n",
      "   1.66666667  2.77777778  3.88888889  5.        ]\n",
      " [-5.         -3.88888889 -2.77777778 -1.66666667 -0.55555556  0.55555556\n",
      "   1.66666667  2.77777778  3.88888889  5.        ]\n",
      " [-5.         -3.88888889 -2.77777778 -1.66666667 -0.55555556  0.55555556\n",
      "   1.66666667  2.77777778  3.88888889  5.        ]\n",
      " [-5.         -3.88888889 -2.77777778 -1.66666667 -0.55555556  0.55555556\n",
      "   1.66666667  2.77777778  3.88888889  5.        ]\n",
      " [-5.         -3.88888889 -2.77777778 -1.66666667 -0.55555556  0.55555556\n",
      "   1.66666667  2.77777778  3.88888889  5.        ]\n",
      " [-5.         -3.88888889 -2.77777778 -1.66666667 -0.55555556  0.55555556\n",
      "   1.66666667  2.77777778  3.88888889  5.        ]\n",
      " [-5.         -3.88888889 -2.77777778 -1.66666667 -0.55555556  0.55555556\n",
      "   1.66666667  2.77777778  3.88888889  5.        ]\n",
      " [-5.         -3.88888889 -2.77777778 -1.66666667 -0.55555556  0.55555556\n",
      "   1.66666667  2.77777778  3.88888889  5.        ]\n",
      " [-5.         -3.88888889 -2.77777778 -1.66666667 -0.55555556  0.55555556\n",
      "   1.66666667  2.77777778  3.88888889  5.        ]\n",
      " [-5.         -3.88888889 -2.77777778 -1.66666667 -0.55555556  0.55555556\n",
      "   1.66666667  2.77777778  3.88888889  5.        ]]\n",
      "Meshgrid Y:\n",
      " [[-5.         -5.         -5.         -5.         -5.         -5.\n",
      "  -5.         -5.         -5.         -5.        ]\n",
      " [-3.88888889 -3.88888889 -3.88888889 -3.88888889 -3.88888889 -3.88888889\n",
      "  -3.88888889 -3.88888889 -3.88888889 -3.88888889]\n",
      " [-2.77777778 -2.77777778 -2.77777778 -2.77777778 -2.77777778 -2.77777778\n",
      "  -2.77777778 -2.77777778 -2.77777778 -2.77777778]\n",
      " [-1.66666667 -1.66666667 -1.66666667 -1.66666667 -1.66666667 -1.66666667\n",
      "  -1.66666667 -1.66666667 -1.66666667 -1.66666667]\n",
      " [-0.55555556 -0.55555556 -0.55555556 -0.55555556 -0.55555556 -0.55555556\n",
      "  -0.55555556 -0.55555556 -0.55555556 -0.55555556]\n",
      " [ 0.55555556  0.55555556  0.55555556  0.55555556  0.55555556  0.55555556\n",
      "   0.55555556  0.55555556  0.55555556  0.55555556]\n",
      " [ 1.66666667  1.66666667  1.66666667  1.66666667  1.66666667  1.66666667\n",
      "   1.66666667  1.66666667  1.66666667  1.66666667]\n",
      " [ 2.77777778  2.77777778  2.77777778  2.77777778  2.77777778  2.77777778\n",
      "   2.77777778  2.77777778  2.77777778  2.77777778]\n",
      " [ 3.88888889  3.88888889  3.88888889  3.88888889  3.88888889  3.88888889\n",
      "   3.88888889  3.88888889  3.88888889  3.88888889]\n",
      " [ 5.          5.          5.          5.          5.          5.\n",
      "   5.          5.          5.          5.        ]]\n",
      "Computed Z:\n",
      " [[ 1.24258646  0.96332014 -0.07217981 -0.71174577 -0.2437532   0.81107757\n",
      "   1.27907014  0.63950418 -0.39599577 -0.67526209]\n",
      " [ 0.22539509 -0.05387123 -1.08937117 -1.72893714 -1.26094457 -0.2061138\n",
      "   0.26187877 -0.37768719 -1.41318714 -1.69245346]\n",
      " [ 0.02437814 -0.25488818 -1.29038813 -1.92995409 -1.46196152 -0.40713075\n",
      "   0.06086182 -0.57870414 -1.61420409 -1.89347041]\n",
      " [ 0.86320073  0.58393441 -0.45156554 -1.09113151 -0.62313893  0.43169184\n",
      "   0.89968441  0.26011844 -0.7753815  -1.05464782]\n",
      " [ 1.80853184  1.52926552  0.49376557 -0.14580039  0.32219218  1.37702295\n",
      "   1.84501552  1.20544955  0.16994961 -0.10931671]\n",
      " [ 1.80853184  1.52926552  0.49376557 -0.14580039  0.32219218  1.37702295\n",
      "   1.84501552  1.20544955  0.16994961 -0.10931671]\n",
      " [ 0.86320073  0.58393441 -0.45156554 -1.09113151 -0.62313893  0.43169184\n",
      "   0.89968441  0.26011844 -0.7753815  -1.05464782]\n",
      " [ 0.02437814 -0.25488818 -1.29038813 -1.92995409 -1.46196152 -0.40713075\n",
      "   0.06086182 -0.57870414 -1.61420409 -1.89347041]\n",
      " [ 0.22539509 -0.05387123 -1.08937117 -1.72893714 -1.26094457 -0.2061138\n",
      "   0.26187877 -0.37768719 -1.41318714 -1.69245346]\n",
      " [ 1.24258646  0.96332014 -0.07217981 -0.71174577 -0.2437532   0.81107757\n",
      "   1.27907014  0.63950418 -0.39599577 -0.67526209]]\n"
     ]
    }
   ],
   "source": [
    "x = np.linspace(-5, 5, 10)\n",
    "y = np.linspace(-5, 5, 10)\n",
    "\n",
    "X, Y = np.meshgrid(x, y)\n",
    "Z = np.sin(X) + np.cos(Y)\n",
    "\n",
    "print(\"Meshgrid X:\\n\", X)\n",
    "print(\"Meshgrid Y:\\n\", Y)\n",
    "print(\"Computed Z:\\n\", Z)"
   ]
  },
  {
   "cell_type": "code",
   "execution_count": null,
   "id": "fb908a3c-6f1d-4dbc-81fd-3484fc4d3180",
   "metadata": {},
   "outputs": [],
   "source": [
    "Applying condition to elements"
   ]
  },
  {
   "cell_type": "code",
   "execution_count": 25,
   "id": "8cbd91b5-de55-4aec-aea3-dfc5f659ae7c",
   "metadata": {},
   "outputs": [
    {
     "name": "stdout",
     "output_type": "stream",
     "text": [
      "Conditionally modified array: [-1 -1 30 40 50]\n"
     ]
    }
   ],
   "source": [
    "cond_array = np.where(a > 20, a, -1)\n",
    "print(\"Conditionally modified array:\", cond_array)"
   ]
  },
  {
   "cell_type": "code",
   "execution_count": null,
   "id": "9ce1c3ce-0d51-4809-89e8-d5785f6af839",
   "metadata": {},
   "outputs": [],
   "source": [
    "Working with structured arrays"
   ]
  },
  {
   "cell_type": "code",
   "execution_count": 26,
   "id": "0c76b19e-efc5-4c73-81c3-e68242da6826",
   "metadata": {},
   "outputs": [
    {
     "name": "stdout",
     "output_type": "stream",
     "text": [
      "Structured array: [(1, 'A') (2, 'B') (3, 'C')]\n",
      "Structured array field 'number': [1 2 3]\n",
      "Structured array field 'letter': ['A' 'B' 'C']\n"
     ]
    }
   ],
   "source": [
    "structured_array = np.array([(1, 'A'), (2, 'B'), (3, 'C')],\n",
    "                            dtype=[('number', 'i4'), ('letter', 'U1')])\n",
    "print(\"Structured array:\", structured_array)\n",
    "print(\"Structured array field 'number':\", structured_array['number'])\n",
    "print(\"Structured array field 'letter':\", structured_array['letter'])"
   ]
  },
  {
   "cell_type": "code",
   "execution_count": null,
   "id": "3545be88-aa30-4b7f-b6b3-a8a2f325a3dd",
   "metadata": {},
   "outputs": [],
   "source": []
  }
 ],
 "metadata": {
  "kernelspec": {
   "display_name": "Python 3 (ipykernel)",
   "language": "python",
   "name": "python3"
  },
  "language_info": {
   "codemirror_mode": {
    "name": "ipython",
    "version": 3
   },
   "file_extension": ".py",
   "mimetype": "text/x-python",
   "name": "python",
   "nbconvert_exporter": "python",
   "pygments_lexer": "ipython3",
   "version": "3.12.4"
  }
 },
 "nbformat": 4,
 "nbformat_minor": 5
}
