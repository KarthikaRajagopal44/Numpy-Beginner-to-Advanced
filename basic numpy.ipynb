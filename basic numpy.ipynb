{
 "cells": [
  {
   "cell_type": "code",
   "execution_count": null,
   "id": "2e450390-2747-44b1-8889-013d1323224e",
   "metadata": {},
   "outputs": [],
   "source": [
    "!pip install numpy"
   ]
  },
  {
   "cell_type": "code",
   "execution_count": null,
   "id": "eb8980e0-9e6f-423a-b6d9-5f3b5252a00d",
   "metadata": {},
   "outputs": [],
   "source": [
    "# import the library\n",
    "import numpy as np"
   ]
  },
  {
   "cell_type": "code",
   "execution_count": null,
   "id": "9e06e2a4-f516-4da2-ba5d-c6bedb97c0bc",
   "metadata": {},
   "outputs": [],
   "source": [
    "Creating different types of arrays"
   ]
  },
  {
   "cell_type": "code",
   "execution_count": 3,
   "id": "d20d37e5-2136-4579-9ea7-2d23001b62c8",
   "metadata": {},
   "outputs": [
    {
     "name": "stdout",
     "output_type": "stream",
     "text": [
      "Array: [1 2 3 4 5]\n"
     ]
    }
   ],
   "source": [
    "# Create a NumPy array from a list\n",
    "import numpy as np\n",
    "arr = np.array([1, 2, 3, 4, 5])\n",
    "print(\"Array:\", arr)"
   ]
  },
  {
   "cell_type": "code",
   "execution_count": 4,
   "id": "ee6bef96-2797-4a5c-9914-79afdaaac834",
   "metadata": {},
   "outputs": [
    {
     "name": "stdout",
     "output_type": "stream",
     "text": [
      "Matrix:\n",
      " [[1 2 3]\n",
      " [4 5 6]]\n"
     ]
    }
   ],
   "source": [
    "# Create a 2D array (matrix) from a list of lists\n",
    "import numpy as np\n",
    "matrix = np.array([[1, 2, 3], [4, 5, 6]])\n",
    "print(\"Matrix:\\n\", matrix)"
   ]
  },
  {
   "cell_type": "code",
   "execution_count": 5,
   "id": "f49c740f-a04f-48be-8bb3-4294e9961b31",
   "metadata": {},
   "outputs": [
    {
     "name": "stdout",
     "output_type": "stream",
     "text": [
      "Zeros:\n",
      " [[0. 0. 0.]\n",
      " [0. 0. 0.]\n",
      " [0. 0. 0.]]\n"
     ]
    }
   ],
   "source": [
    "# Create an array of zeros\n",
    "import numpy as np\n",
    "zeros = np.zeros((3, 3))\n",
    "print(\"Zeros:\\n\", zeros)"
   ]
  },
  {
   "cell_type": "code",
   "execution_count": 6,
   "id": "9cbe6664-d55f-4334-bc08-94adae28cd42",
   "metadata": {},
   "outputs": [
    {
     "name": "stdout",
     "output_type": "stream",
     "text": [
      "Ones:\n",
      " [[1. 1. 1. 1.]\n",
      " [1. 1. 1. 1.]]\n"
     ]
    }
   ],
   "source": [
    "# Create an array of ones\n",
    "import numpy as np\n",
    "ones = np.ones((2, 4))\n",
    "print(\"Ones:\\n\", ones)"
   ]
  },
  {
   "cell_type": "code",
   "execution_count": 7,
   "id": "beea08c3-cdb8-47fc-97be-1465c76861d6",
   "metadata": {},
   "outputs": [
    {
     "name": "stdout",
     "output_type": "stream",
     "text": [
      "Range array: [0 2 4 6 8]\n"
     ]
    }
   ],
   "source": [
    "# Create an array with a specified range\n",
    "# start, stop, step\n",
    "import numpy as np\n",
    "range_array = np.arange(0, 10, 2)  \n",
    "print(\"Range array:\", range_array)"
   ]
  },
  {
   "cell_type": "code",
   "execution_count": 8,
   "id": "ab3aec39-c3de-4227-8b7c-8009a85513f2",
   "metadata": {},
   "outputs": [
    {
     "name": "stdout",
     "output_type": "stream",
     "text": [
      "Linspace array: [0.   0.25 0.5  0.75 1.  ]\n"
     ]
    }
   ],
   "source": [
    "# Create an array of evenly spaced values\n",
    "# start, stop, number of points\n",
    "import numpy as np\n",
    "linspace_array = np.linspace(0, 1, 5)  \n",
    "print(\"Linspace array:\", linspace_array)"
   ]
  },
  {
   "cell_type": "code",
   "execution_count": 9,
   "id": "6a35e562-fba2-423c-9097-706b8c4c51a4",
   "metadata": {},
   "outputs": [
    {
     "name": "stdout",
     "output_type": "stream",
     "text": [
      "Reshaped array:\n",
      " [[ 0  1  2  3]\n",
      " [ 4  5  6  7]\n",
      " [ 8  9 10 11]]\n"
     ]
    }
   ],
   "source": [
    "\n",
    "# Reshape an array\n",
    "import numpy as np\n",
    "reshaped = np.arange(12).reshape(3, 4)\n",
    "print(\"Reshaped array:\\n\", reshaped)\n",
    "\n"
   ]
  },
  {
   "cell_type": "code",
   "execution_count": null,
   "id": "914cb1f5-ed94-4d1d-a09e-011b72090248",
   "metadata": {},
   "outputs": [],
   "source": [
    "Basic operations"
   ]
  },
  {
   "cell_type": "code",
   "execution_count": 11,
   "id": "d6ae8ca0-2674-495e-83f4-d72db2d6d5ef",
   "metadata": {},
   "outputs": [
    {
     "name": "stdout",
     "output_type": "stream",
     "text": [
      "Addition: [5 7 9]\n"
     ]
    }
   ],
   "source": [
    "a = np.array([1, 2, 3])\n",
    "b = np.array([4, 5, 6])\n",
    "# Addition\n",
    "add = a + b\n",
    "print(\"Addition:\", add)"
   ]
  },
  {
   "cell_type": "code",
   "execution_count": 12,
   "id": "fdd5af16-27b9-41af-ac7c-bedce424e10a",
   "metadata": {},
   "outputs": [
    {
     "name": "stdout",
     "output_type": "stream",
     "text": [
      "Subtraction: [-3 -3 -3]\n"
     ]
    }
   ],
   "source": [
    "# Subtraction\n",
    "a = np.array([1, 2, 3])\n",
    "b = np.array([4, 5, 6])\n",
    "sub = a - b\n",
    "print(\"Subtraction:\", sub)"
   ]
  },
  {
   "cell_type": "code",
   "execution_count": 13,
   "id": "9932a982-42af-4abe-9701-d880e8798acc",
   "metadata": {},
   "outputs": [
    {
     "name": "stdout",
     "output_type": "stream",
     "text": [
      "Element-wise multiplication: [ 4 10 18]\n"
     ]
    }
   ],
   "source": [
    "# Element-wise multiplication\n",
    "a = np.array([1, 2, 3])\n",
    "b = np.array([4, 5, 6])\n",
    "mul = a * b\n",
    "print(\"Element-wise multiplication:\", mul)"
   ]
  },
  {
   "cell_type": "code",
   "execution_count": 14,
   "id": "8cbbf3db-fc0d-449f-9883-2a8509d754d4",
   "metadata": {},
   "outputs": [
    {
     "name": "stdout",
     "output_type": "stream",
     "text": [
      "Element-wise division: [0.25 0.4  0.5 ]\n"
     ]
    }
   ],
   "source": [
    "# Element-wise division\n",
    "a = np.array([1, 2, 3])\n",
    "b = np.array([4, 5, 6])\n",
    "div = a / b\n",
    "print(\"Element-wise division:\", div)"
   ]
  },
  {
   "cell_type": "code",
   "execution_count": 15,
   "id": "063df7ea-318a-478e-88d1-8627560f34be",
   "metadata": {},
   "outputs": [
    {
     "name": "stdout",
     "output_type": "stream",
     "text": [
      "Dot product: 32\n"
     ]
    }
   ],
   "source": [
    "# Dot product\n",
    "a = np.array([1, 2, 3])\n",
    "b = np.array([4, 5, 6])\n",
    "dot_product = np.dot(a, b)\n",
    "print(\"Dot product:\", dot_product)"
   ]
  },
  {
   "cell_type": "code",
   "execution_count": 16,
   "id": "89a1e8f5-0e6b-4e37-a902-d4a9fadb99cd",
   "metadata": {},
   "outputs": [
    {
     "name": "stdout",
     "output_type": "stream",
     "text": [
      "Sum of all elements: 6\n"
     ]
    }
   ],
   "source": [
    "# Sum of all elements in an array\n",
    "a = np.array([1, 2, 3])\n",
    "b = np.array([4, 5, 6])\n",
    "sum_all = np.sum(a)\n",
    "print(\"Sum of all elements:\", sum_all)"
   ]
  },
  {
   "cell_type": "code",
   "execution_count": 17,
   "id": "45f48ad3-577c-42cf-8aac-d6bdffcadb60",
   "metadata": {},
   "outputs": [
    {
     "name": "stdout",
     "output_type": "stream",
     "text": [
      "Sum along axis 0 (columns): [5 7 9]\n"
     ]
    }
   ],
   "source": [
    "# Sum along an axis - sum of each column\n",
    "a = np.array([1, 2, 3])\n",
    "b = np.array([4, 5, 6])\n",
    "sum_axis = np.sum(matrix, axis=0)  \n",
    "print(\"Sum along axis 0 (columns):\", sum_axis)\n"
   ]
  },
  {
   "cell_type": "code",
   "execution_count": 18,
   "id": "85d6d775-c73f-4719-b49a-b35e5f3d5dee",
   "metadata": {},
   "outputs": [
    {
     "name": "stdout",
     "output_type": "stream",
     "text": [
      "Mean of all elements: 2.0\n"
     ]
    }
   ],
   "source": [
    "# Mean of all elements\n",
    "a = np.array([1, 2, 3])\n",
    "b = np.array([4, 5, 6])\n",
    "mean_all = np.mean(a)\n",
    "print(\"Mean of all elements:\", mean_all)"
   ]
  },
  {
   "cell_type": "code",
   "execution_count": 19,
   "id": "67ef3838-570c-42d5-b28d-17419930e59e",
   "metadata": {},
   "outputs": [
    {
     "name": "stdout",
     "output_type": "stream",
     "text": [
      "Mean along axis 1 (rows): [2. 5.]\n"
     ]
    }
   ],
   "source": [
    "# Mean along an axis - mean of each row\n",
    "a = np.array([1, 2, 3])\n",
    "b = np.array([4, 5, 6])\n",
    "mean_axis = np.mean(matrix, axis=1)  \n",
    "print(\"Mean along axis 1 (rows):\", mean_axis)"
   ]
  },
  {
   "cell_type": "code",
   "execution_count": 20,
   "id": "cdfdf357-cd94-40bd-bc2a-f75502901f5c",
   "metadata": {},
   "outputs": [
    {
     "name": "stdout",
     "output_type": "stream",
     "text": [
      "Standard deviation: 0.816496580927726\n"
     ]
    }
   ],
   "source": [
    "# Standard deviation\n",
    "a = np.array([1, 2, 3])\n",
    "b = np.array([4, 5, 6])\n",
    "std_dev = np.std(a)\n",
    "print(\"Standard deviation:\", std_dev)"
   ]
  },
  {
   "cell_type": "code",
   "execution_count": 21,
   "id": "5d75d376-f466-44a5-98f8-2df0cb023268",
   "metadata": {},
   "outputs": [
    {
     "name": "stdout",
     "output_type": "stream",
     "text": [
      "Transpose of matrix:\n",
      " [[1 4]\n",
      " [2 5]\n",
      " [3 6]]\n"
     ]
    }
   ],
   "source": [
    "# Transpose of a matrix\n",
    "a = np.array([1, 2, 3])\n",
    "b = np.array([4, 5, 6])\n",
    "transpose_matrix = matrix.T\n",
    "print(\"Transpose of matrix:\\n\", transpose_matrix)"
   ]
  },
  {
   "cell_type": "code",
   "execution_count": 22,
   "id": "464c094f-695c-43be-ae4e-0a7c7bd248ed",
   "metadata": {},
   "outputs": [
    {
     "name": "stdout",
     "output_type": "stream",
     "text": [
      "Sliced array: [2 3 4]\n"
     ]
    }
   ],
   "source": [
    "# Indexing and slicing\n",
    "a = np.array([1, 2, 3])\n",
    "b = np.array([4, 5, 6])\n",
    "sliced_array = arr[1:4]  # slice from index 1 to 3\n",
    "print(\"Sliced array:\", sliced_array)"
   ]
  },
  {
   "cell_type": "code",
   "execution_count": 23,
   "id": "a3bc0a5a-d7d8-496d-8294-40a633f91000",
   "metadata": {},
   "outputs": [
    {
     "name": "stdout",
     "output_type": "stream",
     "text": [
      "Boolean indexing (arr > 3): [False False False  True  True]\n",
      "Filtered array: [4 5]\n"
     ]
    }
   ],
   "source": [
    "# Boolean indexing\n",
    "a = np.array([1, 2, 3])\n",
    "b = np.array([4, 5, 6])\n",
    "bool_index = arr > 3\n",
    "print(\"Boolean indexing (arr > 3):\", bool_index)\n",
    "filtered_array = arr[bool_index]\n",
    "print(\"Filtered array:\", filtered_array)"
   ]
  },
  {
   "cell_type": "code",
   "execution_count": 24,
   "id": "f3306e3e-510e-4525-8810-1cae83a5ed78",
   "metadata": {},
   "outputs": [
    {
     "name": "stdout",
     "output_type": "stream",
     "text": [
      "Concatenated array: [1 2 3 4 5 6]\n"
     ]
    }
   ],
   "source": [
    "# Concatenate arrays\n",
    "a = np.array([1, 2, 3])\n",
    "b = np.array([4, 5, 6])\n",
    "concat = np.concatenate((a, b))\n",
    "print(\"Concatenated array:\", concat)"
   ]
  },
  {
   "cell_type": "code",
   "execution_count": null,
   "id": "2c8d3ec9-ffbe-40dc-a071-e126a240b90f",
   "metadata": {},
   "outputs": [],
   "source": [
    "Other operations"
   ]
  },
  {
   "cell_type": "code",
   "execution_count": 25,
   "id": "4de7aebd-6a5d-4171-9694-43ccf3ac9980",
   "metadata": {},
   "outputs": [
    {
     "name": "stdout",
     "output_type": "stream",
     "text": [
      "Vertically stacked array:\n",
      " [[1 2 3]\n",
      " [4 5 6]]\n"
     ]
    }
   ],
   "source": [
    "# Stack arrays vertically\n",
    "a = np.array([1, 2, 3])\n",
    "b = np.array([4, 5, 6])\n",
    "vstack = np.vstack((a, b))\n",
    "print(\"Vertically stacked array:\\n\", vstack)"
   ]
  },
  {
   "cell_type": "code",
   "execution_count": 26,
   "id": "a15bf4b3-1b58-434b-b7bb-c2dadc2bfb3b",
   "metadata": {},
   "outputs": [
    {
     "name": "stdout",
     "output_type": "stream",
     "text": [
      "Horizontally stacked array: [1 2 3 4 5 6]\n"
     ]
    }
   ],
   "source": [
    "# Stack arrays horizontally\n",
    "a = np.array([1, 2, 3])\n",
    "b = np.array([4, 5, 6])\n",
    "hstack = np.hstack((a, b))\n",
    "print(\"Horizontally stacked array:\", hstack)"
   ]
  },
  {
   "cell_type": "code",
   "execution_count": 27,
   "id": "42b54a12-d55c-4de5-9490-cf4ba18c861d",
   "metadata": {},
   "outputs": [
    {
     "name": "stdout",
     "output_type": "stream",
     "text": [
      "Identity matrix:\n",
      " [[1. 0. 0.]\n",
      " [0. 1. 0.]\n",
      " [0. 0. 1.]]\n"
     ]
    }
   ],
   "source": [
    "# Create identity matrix\n",
    "a = np.array([1, 2, 3])\n",
    "b = np.array([4, 5, 6])\n",
    "identity_matrix = np.eye(3)\n",
    "print(\"Identity matrix:\\n\", identity_matrix)"
   ]
  },
  {
   "cell_type": "code",
   "execution_count": 28,
   "id": "da19058a-c826-468a-83c1-445bf1450e08",
   "metadata": {},
   "outputs": [
    {
     "name": "stdout",
     "output_type": "stream",
     "text": [
      "Random array:\n",
      " [[0.50584571 0.9190762  0.24226044]\n",
      " [0.99884389 0.89685366 0.94006391]\n",
      " [0.28722126 0.20645713 0.4303812 ]]\n"
     ]
    }
   ],
   "source": [
    "# Random numbers\n",
    "a = np.array([1, 2, 3])\n",
    "b = np.array([4, 5, 6])\n",
    "random_array = np.random.random((3, 3))  # random values in a given shape\n",
    "print(\"Random array:\\n\", random_array)"
   ]
  },
  {
   "cell_type": "code",
   "execution_count": 29,
   "id": "312391da-9592-426d-88ff-382b04a00bd1",
   "metadata": {},
   "outputs": [
    {
     "name": "stdout",
     "output_type": "stream",
     "text": [
      "Random array with seed:\n",
      " [[0.37454012 0.95071431]\n",
      " [0.73199394 0.59865848]]\n"
     ]
    }
   ],
   "source": [
    "# Seed for reproducibility\n",
    "a = np.array([1, 2, 3])\n",
    "b = np.array([4, 5, 6])\n",
    "np.random.seed(42)\n",
    "random_seeded = np.random.random((2, 2))\n",
    "print(\"Random array with seed:\\n\", random_seeded)"
   ]
  },
  {
   "cell_type": "code",
   "execution_count": null,
   "id": "cbf6ca0c-881f-4a2a-993b-f61a217c7e37",
   "metadata": {},
   "outputs": [],
   "source": []
  }
 ],
 "metadata": {
  "kernelspec": {
   "display_name": "Python 3 (ipykernel)",
   "language": "python",
   "name": "python3"
  },
  "language_info": {
   "codemirror_mode": {
    "name": "ipython",
    "version": 3
   },
   "file_extension": ".py",
   "mimetype": "text/x-python",
   "name": "python",
   "nbconvert_exporter": "python",
   "pygments_lexer": "ipython3",
   "version": "3.12.4"
  }
 },
 "nbformat": 4,
 "nbformat_minor": 5
}
